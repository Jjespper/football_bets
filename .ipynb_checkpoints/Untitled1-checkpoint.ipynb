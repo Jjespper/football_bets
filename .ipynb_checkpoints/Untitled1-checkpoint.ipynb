{
 "cells": [
  {
   "cell_type": "code",
   "execution_count": 87,
   "metadata": {},
   "outputs": [
    {
     "ename": "ModuleNotFoundError",
     "evalue": "No module named 'sqlalchemy'",
     "output_type": "error",
     "traceback": [
      "\u001b[0;31m---------------------------------------------------------------------------\u001b[0m",
      "\u001b[0;31mModuleNotFoundError\u001b[0m                       Traceback (most recent call last)",
      "\u001b[0;32m<ipython-input-87-2251f12cb9af>\u001b[0m in \u001b[0;36m<module>\u001b[0;34m\u001b[0m\n\u001b[1;32m      1\u001b[0m \u001b[0;32mimport\u001b[0m \u001b[0mpandas\u001b[0m \u001b[0;32mas\u001b[0m \u001b[0mpd\u001b[0m\u001b[0;34m\u001b[0m\u001b[0;34m\u001b[0m\u001b[0m\n\u001b[0;32m----> 2\u001b[0;31m \u001b[0;32mfrom\u001b[0m \u001b[0msqlalchemy\u001b[0m \u001b[0;32mimport\u001b[0m \u001b[0mcreate_engine\u001b[0m\u001b[0;34m\u001b[0m\u001b[0;34m\u001b[0m\u001b[0m\n\u001b[0m",
      "\u001b[0;31mModuleNotFoundError\u001b[0m: No module named 'sqlalchemy'"
     ]
    }
   ],
   "source": [
    "import pandas as pd\n",
    "from sqlalchemy import create_engine"
   ]
  },
  {
   "cell_type": "code",
   "execution_count": 2,
   "metadata": {},
   "outputs": [],
   "source": [
    "liga18 = pd.read_csv('data-18/SP1.csv', engine=\"python\")"
   ]
  },
  {
   "cell_type": "code",
   "execution_count": 3,
   "metadata": {},
   "outputs": [],
   "source": [
    "liga17 = pd.read_csv('data-17/SP1.csv', engine=\"python\")"
   ]
  },
  {
   "cell_type": "code",
   "execution_count": 4,
   "metadata": {},
   "outputs": [],
   "source": [
    "liga16 = pd.read_csv('data-16/SP1.csv', engine=\"python\")"
   ]
  },
  {
   "cell_type": "code",
   "execution_count": 5,
   "metadata": {},
   "outputs": [],
   "source": [
    "liga15 = pd.read_csv('data-15/SP1.csv', engine=\"python\")"
   ]
  },
  {
   "cell_type": "code",
   "execution_count": 6,
   "metadata": {},
   "outputs": [],
   "source": [
    "liga14 = pd.read_csv('data-14/SP1.csv', engine=\"python\")"
   ]
  },
  {
   "cell_type": "code",
   "execution_count": 7,
   "metadata": {},
   "outputs": [],
   "source": [
    "liga13 = pd.read_csv('data-13/SP1.csv', engine=\"python\")"
   ]
  },
  {
   "cell_type": "code",
   "execution_count": 8,
   "metadata": {},
   "outputs": [],
   "source": [
    "liga12 = pd.read_csv('data-12/SP1.csv', engine=\"python\")"
   ]
  },
  {
   "cell_type": "code",
   "execution_count": 9,
   "metadata": {},
   "outputs": [],
   "source": [
    "liga11 = pd.read_csv('data-11/SP1.csv', engine=\"python\")"
   ]
  },
  {
   "cell_type": "code",
   "execution_count": 10,
   "metadata": {},
   "outputs": [],
   "source": [
    "liga10 = pd.read_csv('data-10/SP1.csv', engine=\"python\")"
   ]
  },
  {
   "cell_type": "code",
   "execution_count": 11,
   "metadata": {},
   "outputs": [],
   "source": [
    "liga09 = pd.read_csv('data-09/SP1.csv', engine=\"python\")"
   ]
  },
  {
   "cell_type": "code",
   "execution_count": 12,
   "metadata": {},
   "outputs": [],
   "source": [
    "liga08 = pd.read_csv('data-08/SP1.csv', engine=\"python\")"
   ]
  },
  {
   "cell_type": "code",
   "execution_count": 13,
   "metadata": {},
   "outputs": [],
   "source": [
    "liga07 = pd.read_csv('data-07/SP1.csv', engine=\"python\")"
   ]
  },
  {
   "cell_type": "code",
   "execution_count": 14,
   "metadata": {},
   "outputs": [],
   "source": [
    "liga06 = pd.read_csv('data-06/SP1.csv', engine=\"python\")"
   ]
  },
  {
   "cell_type": "code",
   "execution_count": 15,
   "metadata": {},
   "outputs": [],
   "source": [
    "liga05 = pd.read_csv('data-05/SP1.csv', engine=\"python\")"
   ]
  },
  {
   "cell_type": "code",
   "execution_count": null,
   "metadata": {},
   "outputs": [],
   "source": [
    "def liga_05():\n",
    "    Real_Madrid_CF = 283.750.000 mill. €\n",
    "    FC Barcelona \t275.230.000 mill. €\n",
    "    Valencia CF\t210.900.000 mill. €\n",
    "    RC Deportivo de La Coruña\t118,70 mill. €\n",
    "    Atlético de Madrid\t113,70 mill. €\n",
    "    Real Betis Balompié \t78,10 mill. €\n",
    "    Sevilla FC\t73,25 mill. €\n",
    "    Villarreal CF\t70,00 mill. €\n",
    "    RCD Espanyol\t55,50 mill. €\n",
    "    Real Zaragoza\t52,75 mill. €\n",
    "    Real Sociedad\t46,25 mill. €\n",
    "    RCD Mallorca\t39,90 mill. €\n",
    "    Athletic Club\t38,70 mill. €\n",
    "    Celta de Vigo\t36,35 mill. €\n",
    "    CA Osasuna\t24,00 mill. €\n",
    "    Racing de Santander\t22,85 mill. €\n",
    "    Málaga CF\t21,10 mill. €\n",
    "    Deportivo Alavés  \t20,95 mill. €\n",
    "    Getafe CF\t15,95 mill. €\n",
    "    Cádiz CF  \t1,65 mill. €\n"
   ]
  },
  {
   "cell_type": "code",
   "execution_count": 84,
   "metadata": {},
   "outputs": [
    {
     "data": {
      "text/html": [
       "<div>\n",
       "<style scoped>\n",
       "    .dataframe tbody tr th:only-of-type {\n",
       "        vertical-align: middle;\n",
       "    }\n",
       "\n",
       "    .dataframe tbody tr th {\n",
       "        vertical-align: top;\n",
       "    }\n",
       "\n",
       "    .dataframe thead th {\n",
       "        text-align: right;\n",
       "    }\n",
       "</style>\n",
       "<table border=\"1\" class=\"dataframe\">\n",
       "  <thead>\n",
       "    <tr style=\"text-align: right;\">\n",
       "      <th></th>\n",
       "      <th>Div</th>\n",
       "      <th>Date</th>\n",
       "      <th>HomeTeam</th>\n",
       "      <th>AwayTeam</th>\n",
       "      <th>FTHG</th>\n",
       "      <th>FTAG</th>\n",
       "      <th>FTR</th>\n",
       "      <th>HTHG</th>\n",
       "      <th>HTAG</th>\n",
       "      <th>HTR</th>\n",
       "      <th>...</th>\n",
       "      <th>BbMx&gt;2.5</th>\n",
       "      <th>BbAv&gt;2.5</th>\n",
       "      <th>BbMx&lt;2.5</th>\n",
       "      <th>BbAv&lt;2.5</th>\n",
       "      <th>BbAH</th>\n",
       "      <th>BbAHh</th>\n",
       "      <th>BbMxAHH</th>\n",
       "      <th>BbAvAHH</th>\n",
       "      <th>BbMxAHA</th>\n",
       "      <th>BbAvAHA</th>\n",
       "    </tr>\n",
       "  </thead>\n",
       "  <tbody>\n",
       "    <tr>\n",
       "      <td>0</td>\n",
       "      <td>SP1</td>\n",
       "      <td>27/08/05</td>\n",
       "      <td>Alaves</td>\n",
       "      <td>Barcelona</td>\n",
       "      <td>0</td>\n",
       "      <td>0</td>\n",
       "      <td>D</td>\n",
       "      <td>0</td>\n",
       "      <td>0</td>\n",
       "      <td>D</td>\n",
       "      <td>...</td>\n",
       "      <td>1.94</td>\n",
       "      <td>1.78</td>\n",
       "      <td>2.05</td>\n",
       "      <td>1.92</td>\n",
       "      <td>21</td>\n",
       "      <td>1.25</td>\n",
       "      <td>1.92</td>\n",
       "      <td>1.84</td>\n",
       "      <td>2.10</td>\n",
       "      <td>2.02</td>\n",
       "    </tr>\n",
       "    <tr>\n",
       "      <td>1</td>\n",
       "      <td>SP1</td>\n",
       "      <td>27/08/05</td>\n",
       "      <td>Ath Bilbao</td>\n",
       "      <td>Sociedad</td>\n",
       "      <td>3</td>\n",
       "      <td>0</td>\n",
       "      <td>H</td>\n",
       "      <td>0</td>\n",
       "      <td>0</td>\n",
       "      <td>D</td>\n",
       "      <td>...</td>\n",
       "      <td>1.95</td>\n",
       "      <td>1.85</td>\n",
       "      <td>2.00</td>\n",
       "      <td>1.84</td>\n",
       "      <td>20</td>\n",
       "      <td>-0.50</td>\n",
       "      <td>2.04</td>\n",
       "      <td>1.96</td>\n",
       "      <td>1.95</td>\n",
       "      <td>1.87</td>\n",
       "    </tr>\n",
       "    <tr>\n",
       "      <td>2</td>\n",
       "      <td>SP1</td>\n",
       "      <td>27/08/05</td>\n",
       "      <td>Valencia</td>\n",
       "      <td>Betis</td>\n",
       "      <td>1</td>\n",
       "      <td>0</td>\n",
       "      <td>H</td>\n",
       "      <td>0</td>\n",
       "      <td>0</td>\n",
       "      <td>D</td>\n",
       "      <td>...</td>\n",
       "      <td>2.13</td>\n",
       "      <td>1.99</td>\n",
       "      <td>1.85</td>\n",
       "      <td>1.72</td>\n",
       "      <td>23</td>\n",
       "      <td>-0.50</td>\n",
       "      <td>2.10</td>\n",
       "      <td>2.04</td>\n",
       "      <td>1.85</td>\n",
       "      <td>1.81</td>\n",
       "    </tr>\n",
       "    <tr>\n",
       "      <td>3</td>\n",
       "      <td>SP1</td>\n",
       "      <td>28/08/05</td>\n",
       "      <td>Ath Madrid</td>\n",
       "      <td>Zaragoza</td>\n",
       "      <td>0</td>\n",
       "      <td>0</td>\n",
       "      <td>D</td>\n",
       "      <td>0</td>\n",
       "      <td>0</td>\n",
       "      <td>D</td>\n",
       "      <td>...</td>\n",
       "      <td>2.12</td>\n",
       "      <td>1.97</td>\n",
       "      <td>1.82</td>\n",
       "      <td>1.74</td>\n",
       "      <td>18</td>\n",
       "      <td>-0.75</td>\n",
       "      <td>1.92</td>\n",
       "      <td>1.88</td>\n",
       "      <td>2.05</td>\n",
       "      <td>1.98</td>\n",
       "    </tr>\n",
       "    <tr>\n",
       "      <td>4</td>\n",
       "      <td>SP1</td>\n",
       "      <td>28/08/05</td>\n",
       "      <td>Cadiz</td>\n",
       "      <td>Real Madrid</td>\n",
       "      <td>1</td>\n",
       "      <td>2</td>\n",
       "      <td>A</td>\n",
       "      <td>0</td>\n",
       "      <td>1</td>\n",
       "      <td>A</td>\n",
       "      <td>...</td>\n",
       "      <td>1.88</td>\n",
       "      <td>1.70</td>\n",
       "      <td>2.15</td>\n",
       "      <td>1.98</td>\n",
       "      <td>20</td>\n",
       "      <td>1.25</td>\n",
       "      <td>1.92</td>\n",
       "      <td>1.85</td>\n",
       "      <td>2.08</td>\n",
       "      <td>2.00</td>\n",
       "    </tr>\n",
       "  </tbody>\n",
       "</table>\n",
       "<p>5 rows × 67 columns</p>\n",
       "</div>"
      ],
      "text/plain": [
       "   Div      Date    HomeTeam     AwayTeam  FTHG  FTAG FTR  HTHG  HTAG HTR  \\\n",
       "0  SP1  27/08/05      Alaves    Barcelona     0     0   D     0     0   D   \n",
       "1  SP1  27/08/05  Ath Bilbao     Sociedad     3     0   H     0     0   D   \n",
       "2  SP1  27/08/05    Valencia        Betis     1     0   H     0     0   D   \n",
       "3  SP1  28/08/05  Ath Madrid     Zaragoza     0     0   D     0     0   D   \n",
       "4  SP1  28/08/05       Cadiz  Real Madrid     1     2   A     0     1   A   \n",
       "\n",
       "   ...  BbMx>2.5  BbAv>2.5  BbMx<2.5  BbAv<2.5  BbAH  BbAHh  BbMxAHH  BbAvAHH  \\\n",
       "0  ...      1.94      1.78      2.05      1.92    21   1.25     1.92     1.84   \n",
       "1  ...      1.95      1.85      2.00      1.84    20  -0.50     2.04     1.96   \n",
       "2  ...      2.13      1.99      1.85      1.72    23  -0.50     2.10     2.04   \n",
       "3  ...      2.12      1.97      1.82      1.74    18  -0.75     1.92     1.88   \n",
       "4  ...      1.88      1.70      2.15      1.98    20   1.25     1.92     1.85   \n",
       "\n",
       "   BbMxAHA  BbAvAHA  \n",
       "0     2.10     2.02  \n",
       "1     1.95     1.87  \n",
       "2     1.85     1.81  \n",
       "3     2.05     1.98  \n",
       "4     2.08     2.00  \n",
       "\n",
       "[5 rows x 67 columns]"
      ]
     },
     "execution_count": 84,
     "metadata": {},
     "output_type": "execute_result"
    }
   ],
   "source": [
    "liga05['Home_Value'] = [283750000 if x == 'Real Madrid' for x in df['HomeTeam']]"
   ]
  },
  {
   "cell_type": "code",
   "execution_count": null,
   "metadata": {},
   "outputs": [],
   "source": []
  },
  {
   "cell_type": "code",
   "execution_count": null,
   "metadata": {},
   "outputs": [],
   "source": []
  },
  {
   "cell_type": "code",
   "execution_count": 16,
   "metadata": {},
   "outputs": [],
   "source": [
    "#liga04 = pd.read_csv('data-04/SP1.csv', error_bad_lines=False)"
   ]
  },
  {
   "cell_type": "code",
   "execution_count": 17,
   "metadata": {},
   "outputs": [],
   "source": [
    "liga03 = pd.read_csv('data-03/SP1.csv', engine=\"python\")"
   ]
  },
  {
   "cell_type": "code",
   "execution_count": 18,
   "metadata": {},
   "outputs": [],
   "source": [
    "liga02 = pd.read_csv('data-02/SP1.csv', engine=\"python\")"
   ]
  },
  {
   "cell_type": "code",
   "execution_count": 19,
   "metadata": {},
   "outputs": [],
   "source": [
    "liga01 = pd.read_csv('data-01/SP1.csv', engine=\"python\")"
   ]
  },
  {
   "cell_type": "code",
   "execution_count": 20,
   "metadata": {},
   "outputs": [],
   "source": [
    "liga00 = pd.read_csv('data-00/SP1.csv', engine=\"python\")"
   ]
  },
  {
   "cell_type": "code",
   "execution_count": null,
   "metadata": {},
   "outputs": [],
   "source": [
    "liga03.drop(columns=['Unnamed: 44', 'Unnamed: 45', 'Unnamed: 46', 'Unnamed: 47', 'Unnamed: 48', 'Unnamed: 49', 'Unnamed: 50'])"
   ]
  },
  {
   "cell_type": "code",
   "execution_count": null,
   "metadata": {},
   "outputs": [],
   "source": []
  },
  {
   "cell_type": "code",
   "execution_count": 74,
   "metadata": {},
   "outputs": [],
   "source": [
    "liga05_n = liga05[['HomeTeam', 'AwayTeam', 'B365H', 'B365D', 'B365A','BWH', 'BWD', 'BWA','IWH', 'IWD', 'IWA', \n",
    "                   'VCH', 'VCD', 'VCA', 'WHH', 'WHD', 'WHA', 'HTR', 'FTR']]\n",
    "liga06_n = liga06[['HomeTeam', 'AwayTeam', 'B365H', 'B365D', 'B365A','BWH', 'BWD', 'BWA','IWH', 'IWD', 'IWA', \n",
    "                   'VCH', 'VCD', 'VCA', 'WHH', 'WHD', 'WHA', 'HTR', 'FTR']]\n",
    "liga07_n = liga07[['HomeTeam', 'AwayTeam', 'B365H', 'B365D', 'B365A','BWH', 'BWD', 'BWA','IWH', 'IWD', 'IWA', \n",
    "                   'VCH', 'VCD', 'VCA', 'WHH', 'WHD', 'WHA', 'HTR', 'FTR']]\n",
    "liga08_n = liga08[['HomeTeam', 'AwayTeam', 'B365H', 'B365D', 'B365A','BWH', 'BWD', 'BWA','IWH', 'IWD', 'IWA', \n",
    "                   'VCH', 'VCD', 'VCA', 'WHH', 'WHD', 'WHA', 'HTR', 'FTR']]\n",
    "liga09_n = liga09[['HomeTeam', 'AwayTeam', 'B365H', 'B365D', 'B365A','BWH', 'BWD', 'BWA','IWH', 'IWD', 'IWA', \n",
    "                   'VCH', 'VCD', 'VCA', 'WHH', 'WHD', 'WHA', 'HTR', 'FTR']]\n",
    "liga10_n = liga10[['HomeTeam', 'AwayTeam', 'B365H', 'B365D', 'B365A','BWH', 'BWD', 'BWA','IWH', 'IWD', 'IWA', \n",
    "                   'VCH', 'VCD', 'VCA', 'WHH', 'WHD', 'WHA', 'HTR', 'FTR']]\n",
    "liga11_n = liga11[['HomeTeam', 'AwayTeam', 'B365H', 'B365D', 'B365A','BWH', 'BWD', 'BWA','IWH', 'IWD', 'IWA', \n",
    "                   'VCH', 'VCD', 'VCA', 'WHH', 'WHD', 'WHA', 'HTR', 'FTR']]\n",
    "liga12_n = liga12[['HomeTeam', 'AwayTeam', 'B365H', 'B365D', 'B365A','BWH', 'BWD', 'BWA','IWH', 'IWD', 'IWA', \n",
    "                   'VCH', 'VCD', 'VCA', 'WHH', 'WHD', 'WHA', 'HTR', 'FTR']]\n",
    "liga13_n = liga13[['HomeTeam', 'AwayTeam', 'B365H', 'B365D', 'B365A','BWH', 'BWD', 'BWA','IWH', 'IWD', 'IWA', \n",
    "                   'VCH', 'VCD', 'VCA', 'WHH', 'WHD', 'WHA', 'HTR', 'FTR']]\n",
    "liga14_n = liga14[['HomeTeam', 'AwayTeam', 'B365H', 'B365D', 'B365A','BWH', 'BWD', 'BWA','IWH', 'IWD', 'IWA', \n",
    "                   'VCH', 'VCD', 'VCA', 'WHH', 'WHD', 'WHA', 'HTR', 'FTR']]\n",
    "liga15_n = liga15[['HomeTeam', 'AwayTeam', 'B365H', 'B365D', 'B365A','BWH', 'BWD', 'BWA','IWH', 'IWD', 'IWA', \n",
    "                   'VCH', 'VCD', 'VCA', 'WHH', 'WHD', 'WHA', 'HTR', 'FTR']]\n",
    "liga16_n = liga16[['HomeTeam', 'AwayTeam', 'B365H', 'B365D', 'B365A','BWH', 'BWD', 'BWA','IWH', 'IWD', 'IWA', \n",
    "                   'VCH', 'VCD', 'VCA', 'WHH', 'WHD', 'WHA', 'HTR', 'FTR']]\n",
    "liga17_n = liga17[['HomeTeam', 'AwayTeam', 'B365H', 'B365D', 'B365A','BWH', 'BWD', 'BWA','IWH', 'IWD', 'IWA', \n",
    "                   'VCH', 'VCD', 'VCA', 'WHH', 'WHD', 'WHA', 'HTR', 'FTR']]\n",
    "liga18_n = liga18[['HomeTeam', 'AwayTeam', 'B365H', 'B365D', 'B365A','BWH', 'BWD', 'BWA','IWH', 'IWD', 'IWA', \n",
    "                   'VCH', 'VCD', 'VCA', 'WHH', 'WHD', 'WHA', 'HTR', 'FTR']]"
   ]
  },
  {
   "cell_type": "code",
   "execution_count": 75,
   "metadata": {},
   "outputs": [],
   "source": [
    "ligas05_18 = [liga05_n, liga06_n, liga07_n, liga08_n, liga09_n, liga10_n, liga11_n, liga12_n, liga13_n, liga14_n, liga15_n, liga16_n, liga17_n, liga18_n]\n",
    "\n",
    "big_liga = pd.concat(ligas05_18)"
   ]
  },
  {
   "cell_type": "code",
   "execution_count": 76,
   "metadata": {},
   "outputs": [],
   "source": [
    "big_liga.dropna(inplace=True)"
   ]
  },
  {
   "cell_type": "code",
   "execution_count": 86,
   "metadata": {},
   "outputs": [
    {
     "name": "stdout",
     "output_type": "stream",
     "text": [
      "<class 'pandas.core.frame.DataFrame'>\n",
      "Int64Index: 5209 entries, 0 to 379\n",
      "Data columns (total 19 columns):\n",
      "HomeTeam    5209 non-null object\n",
      "AwayTeam    5209 non-null object\n",
      "B365H       5209 non-null float64\n",
      "B365D       5209 non-null float64\n",
      "B365A       5209 non-null float64\n",
      "BWH         5209 non-null float64\n",
      "BWD         5209 non-null float64\n",
      "BWA         5209 non-null float64\n",
      "IWH         5209 non-null float64\n",
      "IWD         5209 non-null float64\n",
      "IWA         5209 non-null float64\n",
      "VCH         5209 non-null float64\n",
      "VCD         5209 non-null float64\n",
      "VCA         5209 non-null float64\n",
      "WHH         5209 non-null float64\n",
      "WHD         5209 non-null float64\n",
      "WHA         5209 non-null float64\n",
      "HTR         5209 non-null object\n",
      "FTR         5209 non-null object\n",
      "dtypes: float64(15), object(4)\n",
      "memory usage: 813.9+ KB\n"
     ]
    }
   ],
   "source": [
    "big_liga.info()\n"
   ]
  },
  {
   "cell_type": "code",
   "execution_count": null,
   "metadata": {},
   "outputs": [],
   "source": []
  }
 ],
 "metadata": {
  "kernelspec": {
   "display_name": "Python 3",
   "language": "python",
   "name": "python3"
  },
  "language_info": {
   "codemirror_mode": {
    "name": "ipython",
    "version": 3
   },
   "file_extension": ".py",
   "mimetype": "text/x-python",
   "name": "python",
   "nbconvert_exporter": "python",
   "pygments_lexer": "ipython3",
   "version": "3.7.4"
  }
 },
 "nbformat": 4,
 "nbformat_minor": 4
}
